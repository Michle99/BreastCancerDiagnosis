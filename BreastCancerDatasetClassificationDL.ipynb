{
  "nbformat": 4,
  "nbformat_minor": 0,
  "metadata": {
    "colab": {
      "name": "BreastCancerDatasetClassificationDL",
      "provenance": [],
      "collapsed_sections": [],
      "authorship_tag": "ABX9TyNTDZcCRt3cC/dleOuIOhQj",
      "include_colab_link": true
    },
    "kernelspec": {
      "name": "python3",
      "display_name": "Python 3"
    },
    "language_info": {
      "name": "python"
    }
  },
  "cells": [
    {
      "cell_type": "markdown",
      "metadata": {
        "id": "view-in-github",
        "colab_type": "text"
      },
      "source": [
        "<a href=\"https://colab.research.google.com/github/Michle99/BreastCancerDiagnosis/blob/main/BreastCancerDatasetClassificationDL.ipynb\" target=\"_parent\"><img src=\"https://colab.research.google.com/assets/colab-badge.svg\" alt=\"Open In Colab\"/></a>"
      ]
    },
    {
      "cell_type": "code",
      "metadata": {
        "colab": {
          "base_uri": "https://localhost:8080/"
        },
        "id": "BvTm3TnAjAXu",
        "outputId": "e982b304-bd3f-4a6b-a8d3-534a32f3080e"
      },
      "source": [
        "pip install imutils"
      ],
      "execution_count": null,
      "outputs": [
        {
          "output_type": "stream",
          "text": [
            "Requirement already satisfied: imutils in /usr/local/lib/python3.7/dist-packages (0.5.4)\n"
          ],
          "name": "stdout"
        }
      ]
    },
    {
      "cell_type": "code",
      "metadata": {
        "colab": {
          "base_uri": "https://localhost:8080/"
        },
        "id": "PBnsWMtbEi2_",
        "outputId": "23cd3d0a-c439-42a3-a331-c838c2324cca"
      },
      "source": [
        "from google.colab import drive\n",
        "drive.mount(\"/content/drive/\")"
      ],
      "execution_count": null,
      "outputs": [
        {
          "output_type": "stream",
          "text": [
            "Mounted at /content/drive/\n"
          ],
          "name": "stdout"
        }
      ]
    },
    {
      "cell_type": "code",
      "metadata": {
        "colab": {
          "base_uri": "https://localhost:8080/"
        },
        "id": "pfBsPTXgHGpo",
        "outputId": "4bc3f4f6-f21f-48d8-f466-7295d9726952"
      },
      "source": [
        "!ls /content/drive/MyDrive/datasets/\n",
        "!ls /content/drive/MyDrive/datasets/idc/\n",
        "!ls /content/drive/MyDrive/datasets/orig/"
      ],
      "execution_count": null,
      "outputs": [
        {
          "output_type": "stream",
          "text": [
            "idc  orig\n",
            "testing  training  validation\n",
            "10253  10254  8863  8864\n"
          ],
          "name": "stdout"
        }
      ]
    },
    {
      "cell_type": "code",
      "metadata": {
        "id": "Yd9DVnvOEAoj"
      },
      "source": [
        "#set the data set folder\n",
        "import os\n",
        "#original input data set path\n",
        "ORIGINAL_INPUT_DATASET = \"/content/drive/MyDrive/datasets/orig/\"\n",
        "#master folder to contain the train test valid data \n",
        "BASE_PATH = \"/content/drive/MyDrive/datasets/idc/\"\n",
        "#derive the training testing and validation directories\n",
        "TRAIN_PATH = os.path.sep.join([BASE_PATH , 'training'])\n",
        "VAL_PATH = os.path.sep.join([BASE_PATH , 'validation'])\n",
        "TEST_PATH = os.path.sep.join([BASE_PATH , \"testing\"])\n",
        "#Train test split\n",
        "TRAIN_SPLIT = 0.8\n",
        "#validation split\n",
        "VAL_SPLIT = 0.1"
      ],
      "execution_count": null,
      "outputs": []
    },
    {
      "cell_type": "code",
      "metadata": {
        "colab": {
          "base_uri": "https://localhost:8080/"
        },
        "id": "ogfyiyy_HuwV",
        "outputId": "c189315a-9a56-47bc-eba6-f3c5b7cffa44"
      },
      "source": [
        "!ls /content/drive/MyDrive/datasets/idc/"
      ],
      "execution_count": null,
      "outputs": [
        {
          "output_type": "stream",
          "text": [
            "testing  training  validation\n"
          ],
          "name": "stdout"
        }
      ]
    },
    {
      "cell_type": "code",
      "metadata": {
        "colab": {
          "base_uri": "https://localhost:8080/"
        },
        "id": "TdSSf0sZH6wU",
        "outputId": "8dd777ee-0e5e-4690-fdcd-d93652e2b50f"
      },
      "source": [
        "from imutils import paths\n",
        "import shutil\n",
        "import random\n",
        "import os\n",
        "\n",
        "#grab the paths to the input images in the base folder\n",
        "imgPaths = list(paths.list_images(ORIGINAL_INPUT_DATASET))\n",
        "#define a random seed to shuffle\n",
        "random.seed(42)\n",
        "random.shuffle(imgPaths)\n",
        "print(len(imgPaths))"
      ],
      "execution_count": null,
      "outputs": [
        {
          "output_type": "stream",
          "text": [
            "2006\n"
          ],
          "name": "stdout"
        }
      ]
    },
    {
      "cell_type": "code",
      "metadata": {
        "id": "65GJ9jfeOOP5"
      },
      "source": [
        "from PIL import Image\n",
        "%matplotlib inline\n",
        "import matplotlib.pyplot as plt"
      ],
      "execution_count": null,
      "outputs": []
    },
    {
      "cell_type": "code",
      "metadata": {
        "colab": {
          "base_uri": "https://localhost:8080/",
          "height": 338
        },
        "id": "5zrlk_eMScTI",
        "outputId": "4a58cac4-55af-4932-c0f3-e86c705ff891"
      },
      "source": [
        "#do some visualization\n",
        "test_img_path = imgPaths[5]\n",
        "class_label = test_img_path.split(os.path.sep)[-2]\n",
        "print(\"Class Label \" ,class_label)\n",
        "image = Image.open(test_img_path)\n",
        "plt.figure(figsize=(5,5))\n",
        "plt.imshow(image)\n",
        "plt.show()"
      ],
      "execution_count": null,
      "outputs": [
        {
          "output_type": "stream",
          "text": [
            "Class Label  1\n"
          ],
          "name": "stdout"
        },
        {
          "output_type": "display_data",
          "data": {
            "image/png": "[encoded data removed]",
            "text/plain": [
              "<Figure size 360x360 with 1 Axes>"
            ]
          },
          "metadata": {
            "tags": [],
            "needs_background": "light"
          }
        }
      ]
    },
    {
      "cell_type": "code",
      "metadata": {
        "colab": {
          "base_uri": "https://localhost:8080/"
        },
        "id": "FpK5CNTgS6Od",
        "outputId": "355d693c-081c-40e7-b803-f64edde9876f"
      },
      "source": [
        "#take 80% of the data from the folder\n",
        "imgPaths = imgPaths[:int(len(imgPaths)*0.7)]\n",
        "#define the split index for train  test\n",
        "split_idx = int(len(imgPaths)*TRAIN_SPLIT)\n",
        "trainPaths= imgPaths[:split_idx]\n",
        "testPaths = imgPaths[split_idx:]\n",
        "\n",
        "#define the train val split\n",
        "val_split = int(len(trainPaths)*VAL_SPLIT)\n",
        "valPaths = trainPaths[:val_split]\n",
        "trainPaths = trainPaths[val_split:]\n",
        "\n",
        "#define the datasets\n",
        "datasets=[\n",
        "    ('training',trainPaths , TRAIN_PATH),\n",
        "    ('validation' , valPaths , VAL_PATH),\n",
        "    ('testing' , testPaths , TEST_PATH)\n",
        "]\n",
        "\n",
        "for (dtype , imgPaths , baseoutput) in datasets:\n",
        "    print(\"Building the Dataset for \",dtype)\n",
        "    #if the base output is not exists then create a folder\n",
        "    if not os.path.exists(baseoutput):\n",
        "        print(\"Create a directory for the dataset \", baseoutput)\n",
        "        os.makedirs(baseoutput)\n",
        "    \n",
        "    for imgPath in imgPaths :\n",
        "        #define the class and the file name\n",
        "        filename = imgPath.split(os.path.sep)[-1]\n",
        "        label = filename[-5:-4]\n",
        "        #build the path to the label directory for 1 and 0\n",
        "        labelPath = os.path.sep.join([baseoutput,label])\n",
        "        \n",
        "        if not os.path.exists(labelPath):\n",
        "            print(\"Create the directory for the label {}\".format(labelPath))\n",
        "            os.makedirs(labelPath)        \n",
        "        p = os.path.sep.join([labelPath,filename])\n",
        "     \n",
        "        shutil.copy2(imgPath , p)"
      ],
      "execution_count": null,
      "outputs": [
        {
          "output_type": "stream",
          "text": [
            "Building the Dataset for  training\n",
            "Building the Dataset for  validation\n",
            "Building the Dataset for  testing\n"
          ],
          "name": "stdout"
        }
      ]
    },
    {
      "cell_type": "code",
      "metadata": {
        "colab": {
          "base_uri": "https://localhost:8080/"
        },
        "id": "CC40DSeGWH6u",
        "outputId": "f7406bde-1c90-4338-d1f3-dab337867e1c"
      },
      "source": [
        "!ls /content/drive/MyDrive/datasets/idc/"
      ],
      "execution_count": null,
      "outputs": [
        {
          "output_type": "stream",
          "text": [
            "testing  training  validation\n"
          ],
          "name": "stdout"
        }
      ]
    },
    {
      "cell_type": "code",
      "metadata": {
        "id": "9LJC37MKYZQy"
      },
      "source": [
        "from torchvision import datasets\n",
        "import torch\n",
        "from torchvision import transforms\n",
        "def make_weights_for_balanced_classes(images, nclasses):                        \n",
        "    count = [0] * nclasses                                                      \n",
        "    for item in images:                                                         \n",
        "        count[item[1]] += 1                                                     \n",
        "    weight_per_class = [0.] * nclasses                                      \n",
        "    N = float(sum(count))                                                   \n",
        "    for i in range(nclasses):                                                   \n",
        "        weight_per_class[i] = N/float(count[i])                                 \n",
        "    weight = [0] * len(images)                                              \n",
        "    for idx, val in enumerate(images):                                          \n",
        "        weight[idx] = weight_per_class[val[1]]                                  \n",
        "    return weight \n",
        "\n",
        "transform_train = transforms.Compose([\n",
        "    transforms.Pad(64, padding_mode='reflect'),\n",
        "    transforms.RandomRotation((0,10)),\n",
        "    transforms.RandomHorizontalFlip(),\n",
        "    transforms.RandomVerticalFlip(),\n",
        "    transforms.ToTensor() ,\n",
        "    transforms.Normalize([0.5,0.5,0.5] , [0.5,0.5,0.5])\n",
        "])\n",
        "transform_test = transforms.Compose([\n",
        "    transforms.Pad(64, padding_mode='reflect'),\n",
        "    transforms.ToTensor() ,\n",
        "    transforms.Normalize([0.5,0.5,0.5] , [0.5,0.5,0.5])\n",
        "])\n",
        "transform_valid = transforms.Compose([\n",
        "    transforms.Pad(64, padding_mode='reflect'),\n",
        "    transforms.ToTensor() ,\n",
        "    transforms.Normalize([0.5,0.5,0.5] , [0.5,0.5,0.5])\n",
        "])\n",
        "\n",
        "\n",
        "dataset_train = datasets.ImageFolder('/content/drive/MyDrive/datasets/idc/training' ,transform=transform_train)                                                                         \n",
        "dataset_test = datasets.ImageFolder(\"/content/drive/MyDrive/datasets/idc/testing\",transform=transform_test)   \n",
        "dataset_valid = datasets.ImageFolder(\"/content/drive/MyDrive/datasets/idc/validation\",transform=transform_valid)\n",
        "\n",
        "# For unbalanced dataset we create a weighted sampler                       \n",
        "weights = make_weights_for_balanced_classes(dataset_train.imgs, len(dataset_train.classes))                                                                \n",
        "weights = torch.DoubleTensor(weights)                                       \n",
        "sampler = torch.utils.data.sampler.WeightedRandomSampler(weights, len(weights))                     \n",
        "                                                                                \n",
        "train_loader = torch.utils.data.DataLoader(dataset_train, batch_size=64 , sampler = sampler, num_workers=0, pin_memory=True)   \n",
        "test_loader = torch.utils.data.DataLoader(dataset_test , batch_size=32 , pin_memory=True)\n",
        "valid_loader = torch.utils.data.DataLoader(dataset_valid , batch_size=32 , pin_memory=True)"
      ],
      "execution_count": null,
      "outputs": []
    },
    {
      "cell_type": "code",
      "metadata": {
        "id": "Ipx2qmKCZW5B"
      },
      "source": [
        "from tensorflow.keras.models import Sequential\n",
        "from tensorflow.keras.layers import BatchNormalization\n",
        "from tensorflow.keras.layers import SeparableConv2D , Conv2D\n",
        "from tensorflow.keras.layers import MaxPool2D\n",
        "from tensorflow.keras import regularizers\n",
        "from tensorflow.keras.layers import Activation\n",
        "from tensorflow.keras.layers import Flatten\n",
        "from tensorflow.keras.layers import Dropout\n",
        "from tensorflow.keras.layers import Dense\n",
        "from tensorflow.keras import backend as K"
      ],
      "execution_count": null,
      "outputs": []
    },
    {
      "cell_type": "code",
      "metadata": {
        "id": "PsWVy4x-ZYdc"
      },
      "source": [
        "class CancerNet :\n",
        "    @staticmethod\n",
        "    def build(width , height , depth , classes):\n",
        "        model= Sequential()\n",
        "        inputShape = (height , width , depth)\n",
        "        channel_dim = -1\n",
        "        \n",
        "        if K.image_data_format()==\"channels_first\":\n",
        "            inputShape = (depth , height , width)\n",
        "            channel_dim =1\n",
        "            \n",
        "        #using the seprable convs getting higher computation but the kernels not getting much higher accuracy    \n",
        "        model.add(Conv2D(32 , (3,3) , padding='same' , input_shape=inputShape , \n",
        "                         kernel_regularizer = regularizers.l1_l2(l1=1e-2 , l2=1e-3)))\n",
        "        \n",
        "        model.add(Activation('relu'))\n",
        "        model.add(BatchNormalization(axis=channel_dim))\n",
        "        model.add(MaxPool2D(pool_size=(2,2)))\n",
        "        model.add(Dropout(0.25))\n",
        "        \n",
        "        model.add(Conv2D(64 , (3,3) , padding='same' , \n",
        "                                 kernel_regularizer = regularizers.l1_l2(l1=1e-3)))\n",
        "        \n",
        "        \n",
        "        model.add(Activation('relu'))\n",
        "        model.add(BatchNormalization(axis=channel_dim))\n",
        "        model.add(Conv2D(128 , (3,3) , padding='same' , \n",
        "                                 kernel_regularizer = regularizers.l1_l2(l1=1e-3)))\n",
        "        model.add(Activation('relu'))\n",
        "        model.add(BatchNormalization(axis=channel_dim))\n",
        "        model.add(MaxPool2D(pool_size=(2,2)))\n",
        "        model.add(Dropout(0.25))\n",
        "        \n",
        "        model.add(Conv2D(256 , (3,3) , padding='same' , \n",
        "                                 kernel_regularizer = regularizers.l1_l2(l1=1e-3)))\n",
        "        model.add(Activation(\"relu\"))\n",
        "        model.add(BatchNormalization(axis=channel_dim))\n",
        "        model.add(Conv2D(512 , (3,3) , padding='same' , \n",
        "                                 kernel_regularizer = regularizers.l1_l2(l1=1e-3)))\n",
        "        model.add(Activation(\"relu\"))\n",
        "        model.add(BatchNormalization(axis=channel_dim))\n",
        "        model.add(Conv2D(1024 , (3,3) , padding='same' , \n",
        "                                 kernel_regularizer = regularizers.l1_l2(l1=1e-3)))\n",
        "        model.add(Activation(\"relu\"))\n",
        "        model.add(BatchNormalization(axis=channel_dim))\n",
        "        model.add(MaxPool2D(pool_size=(2, 2)))\n",
        "        model.add(Dropout(0.25)) \n",
        "        \n",
        "        #add the dense layers\n",
        "        model.add(Flatten())\n",
        "        model.add(Dense(256))\n",
        "        model.add(Activation('relu'))\n",
        "        model.add(BatchNormalization())\n",
        "        model.add(Dropout(0.5))\n",
        "        \n",
        "        model.add(Dense(classes))\n",
        "        model.add(Activation('softmax'))\n",
        "        \n",
        "        return model"
      ],
      "execution_count": null,
      "outputs": []
    },
    {
      "cell_type": "code",
      "metadata": {
        "id": "f0madrhaaESq"
      },
      "source": [
        "#implement the training scipt\n",
        "import matplotlib\n",
        "matplotlib.use(\"Agg\")\n",
        "\n",
        "from tensorflow.keras.preprocessing.image import ImageDataGenerator\n",
        "from tensorflow.keras.callbacks import LearningRateScheduler\n",
        "from tensorflow.keras.optimizers import Adagrad\n",
        "from tensorflow.keras.utils  import to_categorical\n",
        "from sklearn.metrics import classification_report\n",
        "from sklearn.metrics import confusion_matrix\n",
        "from imutils import paths\n",
        "import matplotlib.pyplot as plt\n",
        "import numpy as np\n",
        "import argparse\n",
        "import os\n",
        "import keras\n",
        "\n",
        "NUM_EPOCHS = 40\n",
        "INIT_LR = 1e-2\n",
        "BS = 32\n",
        "\n",
        "trainPaths = list(paths.list_images(TRAIN_PATH))\n",
        "totalTrain = len(trainPaths)\n",
        "totalVal = len(list(paths.list_images(VAL_PATH)))\n",
        "totalTest = len(list(paths.list_images(TEST_PATH)))\n",
        "\n",
        "trainLabels = [int(p.split(os.path.sep)[-2])  for p in trainPaths]\n",
        "trainLabels = to_categorical(trainLabels)\n",
        "classTotals = trainLabels.sum(axis=0)\n",
        "classWeight = dict()\n",
        "\n",
        "#for all the classes calculate the weight\n",
        "for i in range(0,len(classTotals)):\n",
        "    classWeight[i] = classTotals.max()/classTotals[i]"
      ],
      "execution_count": null,
      "outputs": []
    },
    {
      "cell_type": "code",
      "metadata": {
        "colab": {
          "base_uri": "https://localhost:8080/"
        },
        "id": "Pzqumb0IaGBj",
        "outputId": "ebb2ad74-91df-4308-b1e3-de2e645d644a"
      },
      "source": [
        "import tensorflow as tf\n",
        "with tf.device(\"gpu:0\"):\n",
        "   print(\"tf.keras code in this scope will run on GPU\")"
      ],
      "execution_count": null,
      "outputs": [
        {
          "output_type": "stream",
          "text": [
            "tf.keras code in this scope will run on GPU\n"
          ],
          "name": "stdout"
        }
      ]
    },
    {
      "cell_type": "code",
      "metadata": {
        "id": "JQ-3AFMFaUWq"
      },
      "source": [
        "# initialize the training data augmentation object\n",
        "trainAug = ImageDataGenerator(\n",
        "\trescale=1 / 255.0,\n",
        "\trotation_range=20,\n",
        "\tzoom_range=0.05,\n",
        "\twidth_shift_range=0.1,\n",
        "\theight_shift_range=0.1,\n",
        "\tshear_range=0.05,\n",
        "\thorizontal_flip=True,\n",
        "\tvertical_flip=True,\n",
        "\tfill_mode=\"nearest\")\n",
        "# initialize the validation (and testing) data augmentation object\n",
        "valAug = ImageDataGenerator(rescale=1 / 255.0)"
      ],
      "execution_count": null,
      "outputs": []
    },
    {
      "cell_type": "code",
      "metadata": {
        "colab": {
          "base_uri": "https://localhost:8080/"
        },
        "id": "D25X0WP_ac2p",
        "outputId": "242a21c8-1dc1-4e73-9553-cb6abe191763"
      },
      "source": [
        "#define the training generators\n",
        "trainGen = trainAug.flow_from_directory(\n",
        "    TRAIN_PATH ,\n",
        "    class_mode = 'categorical',\n",
        "    target_size=(48,48) ,\n",
        "    color_mode = 'rgb',\n",
        "    shuffle=True ,\n",
        "    batch_size=BS\n",
        ")\n",
        "\n",
        "# initialize the validation generator\n",
        "valGen = valAug.flow_from_directory(\n",
        "\tVAL_PATH,\n",
        "\tclass_mode=\"categorical\",\n",
        "\ttarget_size=(48, 48),\n",
        "\tcolor_mode=\"rgb\",\n",
        "\tshuffle=False,\n",
        "\tbatch_size=BS)\n",
        "# initialize the testing generator\n",
        "testGen = valAug.flow_from_directory(\n",
        "\tTEST_PATH,\n",
        "\tclass_mode=\"categorical\",\n",
        "\ttarget_size=(48, 48),\n",
        "\tcolor_mode=\"rgb\",\n",
        "\tshuffle=False,\n",
        "\tbatch_size=BS)"
      ],
      "execution_count": null,
      "outputs": [
        {
          "output_type": "stream",
          "text": [
            "Found 1011 images belonging to 2 classes.\n",
            "Found 112 images belonging to 2 classes.\n",
            "Found 281 images belonging to 2 classes.\n"
          ],
          "name": "stdout"
        }
      ]
    },
    {
      "cell_type": "code",
      "metadata": {
        "colab": {
          "base_uri": "https://localhost:8080/"
        },
        "id": "7m2q0lq1ajhL",
        "outputId": "2311d13e-fca9-4d9d-f4bc-aeb34f66dba7"
      },
      "source": [
        "model = CancerNet.build(width=48 , height=48 , depth=3 ,classes=2)\n",
        "lr_schedule = keras.optimizers.schedules.ExponentialDecay(\n",
        "    initial_learning_rate=1e-2,\n",
        "    decay_steps=10000,\n",
        "    decay_rate=0.9)\n",
        "opt = keras.optimizers.SGD(learning_rate=lr_schedule)\n",
        "model.compile(loss='binary_crossentropy', optimizer=opt , metrics=['accuracy'])\n",
        "\n",
        "H = model.fit(\n",
        "    x = trainGen , \n",
        "    steps_per_epoch = totalTrain // BS ,\n",
        "    validation_data = valGen ,\n",
        "    validation_steps = totalVal//BS ,\n",
        "    class_weight = classWeight ,\n",
        "    epochs = 10 )\n",
        "\n"
      ],
      "execution_count": null,
      "outputs": [
        {
          "output_type": "stream",
          "text": [
            "Epoch 1/10\n",
            "31/31 [==============================] - 121s 4s/step - loss: 89.4535 - accuracy: 0.7899 - val_loss: 87.1542 - val_accuracy: 0.1979\n",
            "Epoch 2/10\n",
            "31/31 [==============================] - 115s 4s/step - loss: 86.1907 - accuracy: 0.8839 - val_loss: 84.2512 - val_accuracy: 0.1979\n",
            "Epoch 3/10\n",
            "31/31 [==============================] - 115s 4s/step - loss: 83.2711 - accuracy: 0.8586 - val_loss: 81.4141 - val_accuracy: 0.1979\n",
            "Epoch 4/10\n",
            "31/31 [==============================] - 114s 4s/step - loss: 80.3368 - accuracy: 0.8898 - val_loss: 78.5573 - val_accuracy: 0.8021\n",
            "Epoch 5/10\n",
            "31/31 [==============================] - 113s 4s/step - loss: 77.5438 - accuracy: 0.8643 - val_loss: 75.7183 - val_accuracy: 0.8021\n",
            "Epoch 6/10\n",
            "31/31 [==============================] - 115s 4s/step - loss: 74.7175 - accuracy: 0.8816 - val_loss: 73.1293 - val_accuracy: 0.8125\n",
            "Epoch 7/10\n",
            "31/31 [==============================] - 116s 4s/step - loss: 72.0956 - accuracy: 0.8652 - val_loss: 70.7883 - val_accuracy: 0.4688\n",
            "Epoch 8/10\n",
            "31/31 [==============================] - 114s 4s/step - loss: 69.5212 - accuracy: 0.8453 - val_loss: 67.8864 - val_accuracy: 0.7604\n",
            "Epoch 9/10\n",
            "31/31 [==============================] - 118s 4s/step - loss: 66.8727 - accuracy: 0.8624 - val_loss: 64.9249 - val_accuracy: 0.8438\n",
            "Epoch 10/10\n",
            "31/31 [==============================] - 115s 4s/step - loss: 64.2658 - accuracy: 0.8823 - val_loss: 62.5778 - val_accuracy: 0.8229\n"
          ],
          "name": "stdout"
        }
      ]
    },
    {
      "cell_type": "code",
      "metadata": {
        "colab": {
          "base_uri": "https://localhost:8080/"
        },
        "id": "bJvifQ8sauBn",
        "outputId": "10b06f5a-8f34-4926-fcd0-572be4d0e009"
      },
      "source": [
        "print(\"Model Evaluation \")\n",
        "testGen.reset()\n",
        "predIdx = model.predict(x = testGen , steps=(totalTest//BS)+1)\n",
        "\n",
        "predIdx = np.argmax(predIdx , axis=1)\n",
        "print(classification_report(testGen.classes , predIdx , target_names=testGen.class_indices.keys()))"
      ],
      "execution_count": null,
      "outputs": [
        {
          "output_type": "stream",
          "text": [
            "Model Evaluation \n",
            "              precision    recall  f1-score   support\n",
            "\n",
            "           0       0.89      0.89      0.89       177\n",
            "           1       0.82      0.82      0.82       104\n",
            "\n",
            "    accuracy                           0.86       281\n",
            "   macro avg       0.85      0.85      0.85       281\n",
            "weighted avg       0.86      0.86      0.86       281\n",
            "\n"
          ],
          "name": "stdout"
        }
      ]
    },
    {
      "cell_type": "code",
      "metadata": {
        "colab": {
          "base_uri": "https://localhost:8080/"
        },
        "id": "8X4N2MSTau63",
        "outputId": "ce0ce6e4-e5cd-4fcd-e3b1-8571f54d1cca"
      },
      "source": [
        "cm = confusion_matrix(testGen.classes , predIdx)\n",
        "print(cm)"
      ],
      "execution_count": null,
      "outputs": [
        {
          "output_type": "stream",
          "text": [
            "[[158  19]\n",
            " [ 19  85]]\n"
          ],
          "name": "stdout"
        }
      ]
    }
  ]
}